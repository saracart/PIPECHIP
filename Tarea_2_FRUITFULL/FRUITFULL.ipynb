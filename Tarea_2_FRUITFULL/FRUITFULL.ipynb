{
 "cells": [
  {
   "cell_type": "markdown",
   "metadata": {},
   "source": [
    "# ÍNDICE\n",
    "\n",
    "1. [INTRODUCCIÓN](#introduccion)\n",
    "    - 1.1. [OBJETIVOS](#objetivos)\n",
    "    - 1.2. [DISEÑO EXPERIMENTAL](#diseño)\n",
    "2. [ANÁLISIS DE CALIDAD](#calidad)\n",
    "3. [PROCESAMIENTO DE LE MUESTRAS Y DETERMINACIÓN DE LAS DIANAS](#procesamiento)\n",
    "    - 3.1. [ANÁLISIS CHIP SEQ](#chipeseq)\n",
    "    - 3.2. [ANÁLISIS PICOS](#determinacion)\n",
    "        - 3.2.1. [ANÁLISIS EN IGV DE LOS GENES DE INTERÉS PARA LAS DOS RÉPLICAS](#igv1)\n",
    "        - 3.2.2. [ANÁLISIS EN IGV DE LOS PICOS DONDE SE UNE EL FT](#igv2)\n",
    "    - 3.3. [MOTIVOS GÉNICOS](#motivos)\n",
    "    - 3.4. [EXPRESIÓN DIFERENCIAL DE GENES](#expresion_diferencial)\n",
    "4. [CONCLUSIONES](#conclusiones)\n",
    "5. [REFERENCIAS](#referencias)"
   ]
  },
  {
   "cell_type": "markdown",
   "metadata": {},
   "source": [
    "<a id=\"introduccion\"></a>"
   ]
  },
  {
   "cell_type": "markdown",
   "metadata": {},
   "source": [
    "## 1. INTRODUCCIÓN "
   ]
  },
  {
   "cell_type": "markdown",
   "metadata": {},
   "source": [
    "El crecimiento y desarrollo de la planta está regulado por factores internos y externos. Las condiciones ambientales determinan la expresión de difernetes factores ambientales por lo que entre dos plantas que presenten el mismo genotipo puede haber diferencias fenotípicas. En la respuesta a factores ambientales están involucradas principalmente por hormonas como las auxinas, giberelinas, citoquininas y brasinosteroides; en concreto, la auxina resulta esencial en la respuesta a factores como el fototropismo y el gravitropismo.\n",
    "\n",
    "Se ha demostrado que la **familia SAUR** (Small Auxin-Uprgulated RNAs) responde de forma muy efectiva a estimulos hormonales. En Arabidopsis thaliana (A. thaliana) se ha descubierto que está familia contiene 79 genes, estando dos tercios de ellos implicados en la respuesta a auxina en determinados tejidos. La expresión de los genes de la familia SAUR da como resultado proteínas que interactúan con proteínas fosfatasas de la familia PP2C-D, inhibiendo su función e impidiendo por tanto la desfosforilación de las ATPasas de protones. Esto provoca una acidificación de la membrana que permite la elongación celular.\n",
    "\n",
    "Además de responder a hormonas, SAUR también responde a factores de transcripción involucrados en el crecimiento como el dominio FRUITFULL (FUL) del factor MADS. FUL regula el desarrollo del fruto en A. thaliana y determina tanto el crecimiento como el patrón que sigue el fruto. Los mutantes ful presentan un retraso en la floración y una alteración en la forma de la planta. Se han idenficiado dos genes de la familia SAUR diana del factor FUL, por lo que puede ser que este factor transcripcional no solo esté implicado en el desarrollo del fruto, sino que también presente la capacidad de de regular de forma directa genes implicados en la elongación inducida por luz y hormonas."
   ]
  },
  {
   "cell_type": "markdown",
   "metadata": {},
   "source": [
    "<a id=\"objetivos\"></a>"
   ]
  },
  {
   "cell_type": "markdown",
   "metadata": {},
   "source": [
    "### 1.2. OBJETIVOS"
   ]
  },
  {
   "cell_type": "markdown",
   "metadata": {},
   "source": [
    "El objetivo principal del traajo es mostar que el factor de transcripción FUL es un regulador pleitrópico del desarrollo vegetal, jugando un papel importante en el desarrollo y la arquitectura de la planta, además de su función ya conocida relacionada con el desarrollo del fruto y del tiempo de floración."
   ]
  },
  {
   "cell_type": "markdown",
   "metadata": {},
   "source": [
    "<a id=\"diseño\"></a>"
   ]
  },
  {
   "cell_type": "markdown",
   "metadata": {},
   "source": [
    "### 1.3. DISEÑO EXPERIMENTAL"
   ]
  },
  {
   "cell_type": "markdown",
   "metadata": {},
   "source": [
    "Para determinar el papel del factor transcriocional FRUITFULL (FUL) en el desarrollo del pistilo y la silicua se llevó a cabo un experimento de Chip-seq para identificar dianas directas de FUL. Para ello contamos con dos réplicas biológicas con su correspondiente input como control. Las librerías se prepararon usando el protocolo _Illumina_ para preparación de librerías de ChIP-Seq propuesto por Kaufman et al. (Kaufman et al., Nature Protocols 2010).\n",
    "\n",
    "#### Chip: \n",
    "Las plantas se cultivaron a 22ºC en condiciones de día largo (16 h de luz y 8 h de oscuridad) y se recolectaron en el estadío de 12-16 semanas. Para cada réplica se usó aproximadamente 1g de tejido. La secuenciación se llevó a caba usando el protocolo de Illumina para la preparación de ChIP-SEQ. \n",
    "\n",
    "La inmunoprecipitación de la cromatina se realizó con una línea transformada con GFP haciendo uso de anticuerpos espécificos frente a esta proteína, seguido de una secuenciación para determinar los sitios de unión a escala genómica. Esto se llevó a cabo siguiendo el protocolo mencionado anteriormente. \n",
    "\n",
    "#### Input:\n",
    "Las muestras input se usan como control negativo. El cultivo de las plantas usadas como input se llevó a cabo de forma idéntica a las uadas como chip. Para la inmunoprecipitación de la cromatina no se usaron anticuerpos específicos. \n",
    "\n"
   ]
  },
  {
   "cell_type": "markdown",
   "metadata": {},
   "source": [
    "<a id=\"calidad\"></a>"
   ]
  },
  {
   "cell_type": "markdown",
   "metadata": {},
   "source": [
    "## 2. ANÁLISIS DE CALIDAD"
   ]
  },
  {
   "cell_type": "markdown",
   "metadata": {},
   "source": [
    "Análisis de la calidadCuando lanzamos el fichero index vamos a recibir de vuelta, entre otras cosas, archivos con la información de la calidad en formato html. Estos archivos\n",
    "contienen el índice de calidad de las muestras analizado en formato **FastQC**. Estos archivos tienen todos el mismo formato, y proporcionan la misma\n",
    "información. \n",
    "\n",
    "El análisis de calidad que hace el fichero FastQC es en función a diferentes parámetros:\n",
    "\t\t\n",
    "- **Basic statistics**. Informa el nombre del fichero que se ha procesado, el tipo de fichero, el número total de secuencias que han sido analizadas, la longitud en bases de cada secuencia y el porcentaje del contenido en GC.\n",
    "\t\t\n",
    "- **Calidad de la secuencia por bases**. Este gráfico toma valores en el eje X desde 0 hasta el número total de bases que contiene una secuencia (que lo podíamos ver en el parámetro anterior) y en el eje Y la calidad. Se representa un gráfico tipo boxplot donde cada caja representa las primeras basas del número total de lecturas que se realizaron. En función a la franja en la que se encuentren las cajas del boxplot, la calidad de la muestra será diferente, siendo óptima en color verde y deficiente en amarillo y rojo. \n",
    "\t\t\n",
    "- **Contenido de bases por cada posición**. Lo que se espera es que el contenido en bases (A, T, C y G) correspondiente al que se observa en el genoma del organismo. En nuestro caso, *Arabidopsis thaliana* tiene más alto contenido en AT que en GC. Si esto no sale así y en su lugar se obtienen porcentajes altos de GC lo que se demuestra es que no estamos trabajando con secuencias de nuestro organismo, sino que las muestras se han contaminado. Cabe mencionar que al principio de las lecturas se observa una distorsión común, que hace que este parámetro siempre tenga baja calidad, y que corresponde con el adaptador que se pega en el extremo 5' para realizar la secuenciación. Para eliminar el adaptador del extremo 3' nunca hay problemas, no así en el extremo 5', en cuyo caso aparecen distorsiones. \n",
    "\n",
    "En función de la calidad de las muestras, los parámetros tendrán color verde (buena calidad) y amarillo o rojo (media/mala calidad).\n",
    "\n",
    "### **Análisis de calidad para chip1:**"
   ]
  },
  {
   "cell_type": "markdown",
   "metadata": {},
   "source": [
    "<img src=\"img/chip1_1.png\" alt=\"Drawing\" style=\"width: 1000px;\"/>\n",
    "<img src=\"img/chip1_2.png\" alt=\"Drawing\" style=\"width: 500px;\"/>"
   ]
  },
  {
   "cell_type": "markdown",
   "metadata": {},
   "source": [
    "### **Análisis de calidad para chip2:**"
   ]
  },
  {
   "cell_type": "markdown",
   "metadata": {},
   "source": [
    "<img src=\"img/chip1_1.png\" alt=\"Drawing\" style=\"width: 1000px;\"/>\n",
    "<img src=\"img/chip1_2.png\" alt=\"Drawing\" style=\"width: 500px;\"/>"
   ]
  },
  {
   "cell_type": "markdown",
   "metadata": {},
   "source": [
    "### **Análisis calidad input1:**"
   ]
  },
  {
   "cell_type": "markdown",
   "metadata": {},
   "source": [
    "<img src=\"img/input1_1.png\" alt=\"Drawing\" style=\"width: 1000px;\"/>\n",
    "<img src=\"img/input1_2.png\" alt=\"Drawing\" style=\"width: 500px;\"/>"
   ]
  },
  {
   "cell_type": "markdown",
   "metadata": {},
   "source": [
    "### **Análisis calidad input2:**"
   ]
  },
  {
   "cell_type": "markdown",
   "metadata": {},
   "source": [
    "<img src=\"img/input2_1.png\" alt=\"Drawing\" style=\"width: 1000px;\"/>\n",
    "<img src=\"img/input2_2.png\" alt=\"Drawing\" style=\"width: 500px;\"/>"
   ]
  },
  {
   "cell_type": "markdown",
   "metadata": {},
   "source": [
    "<a id=\"procesamiento\"></a>"
   ]
  },
  {
   "cell_type": "markdown",
   "metadata": {},
   "source": [
    "## 3. PROCESAMIENTO DE LAS MUESTRAS Y DETERMINACIÓN DE LAS DIANAS"
   ]
  },
  {
   "cell_type": "markdown",
   "metadata": {},
   "source": [
    "<a id=\"chipseq\"></a>"
   ]
  },
  {
   "cell_type": "markdown",
   "metadata": {},
   "source": [
    "### 3.1. ANÁLISIS CHIP SEQ\n",
    "\n",
    "El flujo de trabajo para el análisis de chipseq se encuentra descrito en el archivo README del siguiente repositorio, junto con los archivos necesarios para la automatización del mismo. \n",
    "\n",
    "Finalmente, obtendremos una serie de picos cuando haya diferencia entre los mapeos. Para comprobar la significancia de estos picos es necesario llevar a cabo un contraste de hipótesis estadísticios. \n"
   ]
  },
  {
   "cell_type": "markdown",
   "metadata": {},
   "source": [
    "<a id=\"determinacion\"></a>"
   ]
  },
  {
   "cell_type": "markdown",
   "metadata": {},
   "source": [
    "### 3.2 ANÁLISIS PICOS\n",
    "\n",
    "Es interesante estudiar aquellos genes que se ven afectados por el factor de transcripción de interés, en este caso **FRUITFULL**. \n",
    "\n",
    "En primer lugar habría que asignar genes a los picos que se encontraron en el análisis anterior llevando a cabo una **anotación de picos**. El criterio elegido es la cercanía de los picos aguas arribas y aguas abajo del gen. Previamente, habría sido necesario definir la región que se considerará como promotor. \n",
    "\n",
    "Para poder realizar esto se hará uso de las funciones *getPromoters* y *annotatePeak* del paquete **ChIPseeker**"
   ]
  },
  {
   "cell_type": "markdown",
   "metadata": {},
   "source": [
    "Al realizar la anotación obtendremos un fichero con todos los genes diana del factor de transcripción de interés. A continuación, haciendo uso de *enrichGO* se llevará a cabo un análisis de enriquecimiento de ontología génica para determinar si un conjunto de genes aparece con significancia con respecto al total. Para poder usar la función necesitaremos cargar el paquete **clusterProfiler** y el data base dle organismo (**org.At.tair.db** para a.thaliana)."
   ]
  },
  {
   "cell_type": "markdown",
   "metadata": {},
   "source": [
    "Finalmente, se realiza un análisis de las rutas KEGG. El KEGG es una colección de bases de datos para el análisis de rutas biológicas o enzimáticas. Este análisis se lleva a cabo mediante la función *enrichKEGG*. KEGG ofrece la posibilidad de visualizar la ruta interacción molecular del gen de interés mediante la función *pathview*. \n",
    "\n"
   ]
  },
  {
   "cell_type": "markdown",
   "metadata": {},
   "source": [
    "<a id=\"igv1\"></a>"
   ]
  },
  {
   "cell_type": "markdown",
   "metadata": {},
   "source": [
    "#### 3.2.1. Análisis en IGV de los genes de interés para las dos réplicas\n",
    "Para determinar si los experimentos están bien hechos, se representa el mapeo de lecturas cortas gráficamente mediante la herramienta __IGV__. De este modo, podemos visualizar si justo antes de los genes de interés (en la zona correspiendte al promotor de los genes) se unen un número considerado de secuencias indicando que en esta zona, el factor de transcripción se une. \n",
    "\n",
    "Se muestran los resultados para chip e input las réplicas 1 y 2, respecitavemente, de los genes SAUR10 y SAUR16, respectivamente.\n",
    "\n",
    "  __RÉPLICAS 1__\n",
    "\n",
    "*SAUR 10*\n",
    "\n",
    "<img src=\"img/IGV_SAUR10_chip1.png\" alt=\"Drawing\" style=\"width: 1000px;\"/>\n",
    "<img src=\"img/IGV_SAUR10_input1.png\" alt=\"Drawing\" style=\"width: 1000px;\"/>\n",
    "\n",
    "*SAUR 16*\n",
    "\n",
    "<img src=\"img/IGV_SAUR16_chip1.png\" alt=\"Drawing\" style=\"width: 1000px;\"/>\n",
    "<img src=\"img/IGV_SAUR16_input1.png\" alt=\"Drawing\" style=\"width: 1000px;\"/>\n",
    "  \n",
    "  \n",
    "  __RÉPLICAS 2__\n",
    "\n",
    "*SAUR 10*\n",
    "\n",
    "<img src=\"img/IGV_SAUR10_chip2.png\" alt=\"Drawing\" style=\"width: 1000px;\"/>\n",
    "<img src=\"img/IGV_SAUR10_input2.png\" alt=\"Drawing\" style=\"width: 1000px;\"/>\n",
    "\n",
    "*SAUR 16*\n",
    "\n",
    "<img src=\"img/IGV_SAUR16_chip2.png\" alt=\"Drawing\" style=\"width: 1000px;\"/>\n",
    "<img src=\"img/IGV_SAUR16_input2.png\" alt=\"Drawing\" style=\"width: 1000px;\"/>\n",
    "\n",
    "<a id=\"igv2\"></a>\n",
    "\n",
    "#### 3.2.2. Análisis en IGV de los picos donde se une el factor de transcripción\n",
    "De manera analoga, se analizan los picos que donde se encuentran los genes diana del factor de transcripción una. \n",
    "\n",
    "*SAUR 10*\n",
    "\n",
    "<img src=\"img/picos1.png\" alt=\"Drawing\" style=\"width: 1000px;\"/>\n",
    "\n",
    "*SAUR 16*\n",
    "\n",
    "<img src=\"img/picos2.png\" alt=\"Drawing\" style=\"width: 1000px;\"/>"
   ]
  },
  {
   "cell_type": "markdown",
   "metadata": {},
   "source": [
    "Como se observa en las figuras anteriores, encontramos un pico aguas abajo del inicio del gen. Este pico se podría corresponder\n",
    "con el promotor del mismo, pero para determinar si esto es así se debe conocer la distancia a la que se encuentra el promotor\n",
    "del gen. Según los autores del artículo, el promotor de SAUR10 se encuentra unas 1200 pares de bases aguas abajo del inicio del gen.\n",
    "Observando la imagen, se puede apreciar que este pico sale alrededor de 1200 pares de bases aguas abajo de modo que, efectivamente\n",
    "se corresponde con la unión del factor de transcripción al promotor de dicho gen.\n",
    "\n",
    "En el caso de SAUR16, los autores proponen una distancia de 1900 pares de bases entre el promotor y el gen. Observando la figura\n",
    "anterior, se aprecia que la distancia entre el pico y el inicio del gen es de unas 1750 pares de bases aguas abajo del gen, de modo que nuevamente\n",
    "se puede concluir que este pico corresponde a la unión del factor de transcripción con el promotor del gen."
   ]
  },
  {
   "cell_type": "markdown",
   "metadata": {},
   "source": [
    "<a id=\"motivos\"></a>"
   ]
  },
  {
   "cell_type": "markdown",
   "metadata": {},
   "source": [
    "### 3.3 MOTIVOS GÉNICOS\n",
    "\n",
    "Los motivos de secuencia son patrones cortos de DNA que tienen función biológica. A menudo indican sitios específicos de unión a proteínas como nucleasas o factores de transcripción. Las secuencias concenso de estos motivo son variables. La frencuencia del nucleótido en los motivos se identifican con el tamaño de la letra en el diagrama de bases. \n",
    "\n",
    "A continuación se adjuntan los motivos génicos encontrados para ambas réplicas:\n",
    "\n",
    "#### **RÉPLICA 1**\n",
    "\n",
    "Los resultados obtenidos fueron los siguientes:\n",
    "\n",
    "[Primera réplica](HOMER_PEAK1/homerResults.html)\n",
    "\n",
    "<img src=\"img/homer_1.png\" alt=\"Drawing\" style=\"width: 1500px;\"/>\n",
    "\n",
    "En primer lugar es importante destacar el diagrama de gases, donde se observa la frecuencia de cada nucleótido en el motivo. También es \n",
    "\n",
    "Haciendo uso de la herramienta [Uniprot](https://www.uniprot.org/) podemos determinar la función de estos genes. Aquí mostramos algunos. \n",
    "\n",
    "- **REPLUMLESS.** Factor de transcripción implicado en el desarrollo del meristemo, la inflorescencia y el desarrollo del fruto. \n",
    "- **DYT1.** Factor transcipcional implicado en el desarrollo del tapete. Determina la fertilidad del polen y su diferenciación.\n",
    "\n",
    "\n",
    "**RÉPLICA 2**\n",
    "\n",
    "Los resultados obtenidos fueron los siguientes:\n",
    "\n",
    "[Segunda réplica](HOMER_2/homerResults.html)\n",
    "\n",
    "<img src=\"img/homer_2.png\" alt=\"Drawing\" style=\"width: 1000px;\"/>\n",
    "\n",
    "\n",
    "Al igual que en caso anterior las funciones son las siguientes:\n",
    "\n",
    "- **SEP3.** factor de transcripción activo en el desarrollo de la inflorescencia y la organogénesis floral. Actúa junto a SEPALLATA1/AGL2 y SEPALLATA2/AGL4 para asegurar el propicio desarrollo de pétalos, estambre y carpelo. También ayuda a prevenir el crecimiento indeterminado del meristemo florarl.\n",
    "- **HAP3.** Componentee del complejo de factores transcripcionales NF-Y/HAP. Este complejo estimula la transcripción de varios genes mediante el reconocimiento y la unión al motivo CCAAT en el promotor.\n"
   ]
  },
  {
   "cell_type": "markdown",
   "metadata": {},
   "source": [
    "<a id=\"expresion_diferencial\"></a>"
   ]
  },
  {
   "cell_type": "markdown",
   "metadata": {},
   "source": [
    "### 3.4 EXPRESIÓN DIFERENCIAL DE GENES\n",
    "\n",
    "Al realizar la anotación de los picos se encontrarón 907 sitios de unión. Los genes anotados se encuentran en el siguiente archivo: \n",
    "\n",
    "[target_genes](target_genes.txt)\n",
    "\n",
    "\n",
    "Esta lista de genes a simple vista es poco informatica, por lo que a continuación se realiza un resumen de las regiones donde se localizan estas genes:  \n",
    "\n",
    "\n",
    "\n",
    "\n",
    "<img src=\"img/peak_anno.png\" alt=\"Drawing\" style=\"width: 1500px;\"/>\n",
    "\n",
    "\n",
    "\n",
    "La mayoría de los picos encontrados se corresponden con regiones asociadas a promotores (51.6%), significando esto que promuevee la expresión génica. El siguiente grupo importante de regiones que se encuentran enriquecidas en picos se trata de las regiones intergénicas (26.35%); ocasionalmente algunas secuencias intergénicas actúan para controlar genes cercanos, pero la mayoría no presenta funciones conocidas. \n",
    "\n",
    "\n",
    "\n",
    "Para evitar que la anotación se superponga se realiza un vennpie, obteniendo el siguiente resultado:\n",
    "\n",
    "\n",
    "\n",
    "<img src=\"img/venpie.png\" alt=\"Drawing\" style=\"width: 1500px;\"/>\n",
    "\n",
    "\n",
    "La mayoría de las regiones génicas se solapan con regiones exónicas, por lo que son regiones que codifican para proteínas concretas. \n",
    "\n",
    "<img src=\"img/peak_anno.png\" alt=\"Drawing\" style=\"width: 1500px;\"/>\n",
    "\n",
    "La mayoría de los picos encontrados se corresponden con regiones asociadas a promotores (51.6%), significando esto que promuevee la expresión génica. El siguiente grupo importante de regiones que se encuentran enriquecidas en picos se trata de las regiones intergénicas (26.35%); ocasionalmente algunas secuencias intergénicas actúan para controlar genes cercanos, pero la mayoría no presenta funciones conocidas. \n",
    "\n",
    "Para evitar que la anotación se superponga se realiza un vennpie, obteniendo el siguiente resultado:\n",
    "\n",
    "<img src=\"img/venpie.png\" alt=\"Drawing\" style=\"width: 1500px;\"/>\n",
    "\n",
    "La mayoría de las regiones génicas se solapan con regiones exónicas, por lo que son regiones que codifican para proteínas concretas. \n",
    "\n",
    "También se observa la distancia del sitio de unión al TSS más cercano:\n",
    "\n",
    "\n",
    "<img src=\"img/distr.png\" alt=\"Drawing\" style=\"width: 700px;\"/>\n",
    "\n",
    "La mayoría de las regiones de unión se encuentran aguas abajo del sitio de iniciación. \n",
    "\n",
    "Una vez obtenidos los genes más cercados se puede llevar a cabo un análisis de enriquecimiento funcional. En el siguiente gráfico se muestran las funciones que se desencadenan ante la actuación del factor de transcripción.\n",
    "\n",
    "<img src=\"img/bar_ego.png\" alt=\"Drawing\" style=\"width: 700px;\"/> \n",
    "\n",
    "\n",
    "La mayoría de los genes que se actvivan están implicados en rutas de señalización hormonales y lumínicas, demostrando que hay una relación entre los programas de desarrollo y el ambiente. Se han mostrado los 13 primeros procesos ya que son los que presentan un menor p.valor.\n",
    "\n",
    "En el gráfico anterior solo se observan los términos de mayor relevancia del enriquecimiento, pero también resultaría de interés conocer las interacciones de estos genes y los conceptos biológicos en una red. \n",
    "\n",
    "<img src=\"img/emma_ego.png\" alt=\"Drawing\" style=\"width: 700px;\"/>\n",
    "\n",
    "\n",
    "Se observa que los genes relacionados con el ácido jasmónico se encuentran relacionados entre sí  y a los genes de respuesta a herida. Al mismo tiempo, estos genes de respuesta a heridas se encuentran relacionados con la respuesta a quitina y a compuestos organonitrogenados. Los genes de respuestas a diferentes hormonas no se encuentran relacionados entre sí ya que se localizan en clusters diferentes. \n",
    "\n",
    "Finalmente, se realizó el análisis de rutas KEGG de los genes de la familia SAUR ([ath04075](https://www.genome.jp/dbget-bin/www_bget?ath:AT4G38860)). La ruta que se obtuvo fue la siguiente. \n",
    "\n",
    "<img src=\"img/ath04075.png\" alt=\"Drawing\" style=\"width: 700px;\"/>\n",
    "\n",
    "En el esquema se muestra la transducción de señales que desencadena cada hormona y el efecto que tiene sobre la planta.\n"
   ]
  },
  {
   "cell_type": "markdown",
   "metadata": {},
   "source": [
    "<a id=\"conclusiones\"></a>"
   ]
  },
  {
   "cell_type": "markdown",
   "metadata": {},
   "source": [
    "## 4. CONCLUSIONES\n",
    "\n",
    "Con este trabajo se pone de manifiesto que FUL es un factor transcripcional (FT) implicado en crecimiento y el desarrollo de la arquitectura de la planta. Asimismo se demuestra que el FT FUL interacciona con la familia de genes SAUR. además de muchos otros. \n",
    "\n",
    "Los genes de la familia SAUR están implicados en procesos de crecimiento, elongación celular y germinación. Ya se conocía que los genes de esta familia tenñian respuesta a hormonas como la auxina, pero también van a ser dianas directas de FT como FUL. \n",
    "\n",
    "Esto concuerda con las conclusiones obtenidas por los autores del artículo, donde se afirma que FUL interacciona con SAUR10 y está implicado en su regulación. En el artículo van más allá y generan un mutante *full*, comprobando que al mutar el FT tiene lugar una des-represión del gen SAUR10 en ciertos tejidos. Por tanto, concluyen que FUL es un represor de SAUR10, pero que requiere factores adicionales dependientes del tejido como altos niveles de auxina y brasinosterioides. \n",
    "\n",
    "En conclusión, podemos afirmar que este factor transcripcional no solo está implicado en el desarrollo de la planta de forma directa, sino que también presenta la capacidad de regular de forma directa genes implicados en la elongación inducida por luz y hormonas. \n"
   ]
  },
  {
   "cell_type": "markdown",
   "metadata": {},
   "source": [
    "<a id=\"referencias\"></a>"
   ]
  },
  {
   "cell_type": "markdown",
   "metadata": {},
   "source": [
    "## 5. REFERENCIAS\n",
    "### Ártículo principal del trabajo\n",
    "Bemer M, van Mourik H, Muiño JM, Ferrándiz C, Kaufmann K, Angenent GC. FRUITFULL controls SAUR10 expression and regulates Arabidopsis growth and architecture. J Exp Bot. 2017;68(13):3391–3403.\n",
    "\n",
    "[Enlace al artículo](files/tarea1.pdf)\n",
    "\n",
    "### Datos descargados de la subase de datos de NCBI, GEO\n",
    "Los datos analizados en este trabajo fueron depositados en la base de datos de NCBI, Gen Expression Omnibus (McEwan, Deborah L et al., 2016) y se puede acceder a ellos a través del número de acceso: GSE79554 o en el siguiente enlace\n",
    "https://www.ncbi.nlm.nih.gov/geo/query/acc.cgi?acc=GSE79554\n",
    "\n",
    "### R Studio, Bioconductor y paquetes utilizados en el análisis computacional\n",
    "#### RStudio\n",
    "- RStudio Team (2015). RStudio: Integrated Development for R. RStudio, Inc., Boston, MA URL http://www.rstudio.com/.\n",
    "    - **ChIPseeker.** Guangchuang Yu, Li-Gen Wang, Qing-Yu He. ChIPseeker: an R/Bioconductor package for ChIP peak annotation, comparison and visualization. Bioinformatics 2015, 31(14):2382-2383.\n",
    "    - **clusterProfiler.** Guangchuang Yu, Li-Gen Wang, Yanyan Han, Qing-Yu He. clusterProfiler: an R package for comparing biological themes among gene clusters. OMICS: A Journal of Integrative Biology. 2012, 16(5):284-2.\n",
    "    \n",
    "Los paquetes de R citados anteriormente fueron descargados de Bioconductor.\n",
    "\n",
    "#### Bioconductor\n",
    "\n",
    "Orchestrating high-throughput genomic analysis with Bioconductor. W. Huber, V.J. Carey, R. Gentleman, ..., M. Morgan Nature Methods, 2015:12, 115. https://www.bioconductor.org/\n",
    "\n",
    "#### Visualizació de picos - IGV\n",
    "- Robinson JT, Thorvaldsdóttir H, Winckler W, et al. Integrative genomics viewer. Nat Biotechnol. 2011;29(1):24–26.\n",
    "- Helga Thorvaldsdóttir, James T. Robinson, Jill P. Mesirov, Integrative Genomics Viewer (IGV): high-performance genomics data visualization and exploration, Briefings in Bioinformatics, Volume 14, Issue 2, March 2013, Pages 178–192.\n",
    "- James T. Robinson, Helga Thorvaldsdóttir, Aaron M. Wenger, Ahmet Zehir and Jill P. Mesirov. Variant Review with the Integrative Genomics Viewer. Cancer Res; 77(21); e31–34\n",
    "\n",
    "#### Estudio de motivos - Homer\n",
    "- Heinz S, Benner C, Spann N, Bertolino E et al. Simple Combinations of Lineage-Determining Transcription Factors Prime cis-Regulatory Elements Required for Macrophage and B Cell Identities. Mol Cell 2010 May 28;38(4):576-589. PMID: 20513432\n",
    "\n",
    "### Repositorio de GitHub\n",
    "El software está disponible en los repositorios [FRUITFULL](https://github.com/saracart/FRUITFULL) y [PIPECHIP](https://github.com/saracart/PIPECHIP), ambos bajo una licencia GNU GENERAL PUBLIC LICENSE (Version 3, 29 June 2007).\n",
    "\n",
    "\n",
    "### Material docente\n",
    "- **Diapositivas de clase**\n",
    "    - ChIP-Seq (Francisco J. Romero-Campero): [Presentación](chip_seq.pdf)\n",
    "    - Trabajos en SGE (Francisco J. Romero-Campero): [Presentación](scripts_SGE.pdf)\n",
    "- **Vídeos de Youtube**\n",
    "    - [Gestor de colas SGE](https://www.youtube.com/watch?v=yp3Nbgs3MNo&t=1779s)\n",
    "\n",
    "### Jupyter notebook\n",
    "Thomas Kluyver, Benjamin Ragan-Kelley, Fernando Pérez, Brian Granger, Matthias Bussonnier, Jonathan Frederic, Kyle Kelley, Jessica Hamrick, Jason Grout, Sylvain Corlay, Paul Ivanov, Damián Avila, Safia Abdalla, Carol Willing, Jupyter Development Team. Jupyter Notebooks – a publishing format for reproducible computational workflows. "
   ]
  }
 ],
 "metadata": {
  "kernelspec": {
   "display_name": "R",
   "language": "R",
   "name": "ir"
  },
  "language_info": {
   "codemirror_mode": "r",
   "file_extension": ".r",
   "mimetype": "text/x-r-source",
   "name": "R",
   "pygments_lexer": "r",
   "version": "3.6.1"
  }
 },
 "nbformat": 4,
 "nbformat_minor": 2
}
